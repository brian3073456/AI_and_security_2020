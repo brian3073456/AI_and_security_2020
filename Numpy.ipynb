{
  "nbformat": 4,
  "nbformat_minor": 0,
  "metadata": {
    "colab": {
      "name": "Numpy.ipynb",
      "provenance": [],
      "authorship_tag": "ABX9TyMI/R+9iG9FFi0xAJ3KaDBi",
      "include_colab_link": true
    },
    "kernelspec": {
      "name": "python3",
      "display_name": "Python 3"
    }
  },
  "cells": [
    {
      "cell_type": "markdown",
      "metadata": {
        "id": "view-in-github",
        "colab_type": "text"
      },
      "source": [
        "<a href=\"https://colab.research.google.com/github/brian3073456/AI_and_security_2020/blob/master/Numpy.ipynb\" target=\"_parent\"><img src=\"https://colab.research.google.com/assets/colab-badge.svg\" alt=\"Open In Colab\"/></a>"
      ]
    },
    {
      "cell_type": "code",
      "metadata": {
        "id": "Mh-nJIJo4nzg",
        "outputId": "85f7473a-814f-4c40-d167-e9e76bd043a9",
        "colab": {
          "base_uri": "https://localhost:8080/"
        }
      },
      "source": [
        "!git clone https://github.com/tensorflow/examples --depth 1"
      ],
      "execution_count": 2,
      "outputs": [
        {
          "output_type": "stream",
          "text": [
            "Cloning into 'examples'...\n",
            "remote: Enumerating objects: 1861, done.\u001b[K\n",
            "remote: Counting objects: 100% (1861/1861), done.\u001b[K\n",
            "remote: Compressing objects: 100% (1170/1170), done.\u001b[K\n",
            "remote: Total 1861 (delta 529), reused 1467 (delta 405), pack-reused 0\u001b[K\n",
            "Receiving objects: 100% (1861/1861), 12.24 MiB | 3.88 MiB/s, done.\n",
            "Resolving deltas: 100% (529/529), done.\n"
          ],
          "name": "stdout"
        }
      ]
    },
    {
      "cell_type": "code",
      "metadata": {
        "id": "unSIxt5k6lRz",
        "outputId": "2e77a52d-d740-4b82-aae0-3af2cf25b3dd",
        "colab": {
          "base_uri": "https://localhost:8080/"
        }
      },
      "source": [
        "ls"
      ],
      "execution_count": 3,
      "outputs": [
        {
          "output_type": "stream",
          "text": [
            "\u001b[0m\u001b[01;34mexamples\u001b[0m/  \u001b[01;34msample_data\u001b[0m/\n"
          ],
          "name": "stdout"
        }
      ]
    },
    {
      "cell_type": "code",
      "metadata": {
        "id": "lUrR0ym86p5x",
        "outputId": "b35f4c16-44a4-4d37-c2dc-954e04f5c809",
        "colab": {
          "base_uri": "https://localhost:8080/"
        }
      },
      "source": [
        "cd examples/"
      ],
      "execution_count": 4,
      "outputs": [
        {
          "output_type": "stream",
          "text": [
            "/content/examples\n"
          ],
          "name": "stdout"
        }
      ]
    },
    {
      "cell_type": "code",
      "metadata": {
        "id": "qmuy0YYC6u35",
        "outputId": "e93b2bba-1634-48f3-fe25-9f7cab8844b8",
        "colab": {
          "base_uri": "https://localhost:8080/"
        }
      },
      "source": [
        "ls"
      ],
      "execution_count": 5,
      "outputs": [
        {
          "output_type": "stream",
          "text": [
            "AUTHORS     CONTRIBUTING.md  LICENSE    setup.py\n",
            "CODEOWNERS  \u001b[0m\u001b[01;34mcourses\u001b[0m/         \u001b[01;34mlite\u001b[0m/      \u001b[01;34mtemplates\u001b[0m/\n",
            "\u001b[01;34mcommunity\u001b[0m/  __init__.py      README.md  \u001b[01;34mtensorflow_examples\u001b[0m/\n"
          ],
          "name": "stdout"
        }
      ]
    },
    {
      "cell_type": "code",
      "metadata": {
        "id": "WRc6FGZy9A75",
        "outputId": "406ea827-f1df-4812-a3f8-5959cdaf0f81",
        "colab": {
          "base_uri": "https://localhost:8080/"
        }
      },
      "source": [
        "import numpy as np\n",
        "ar2=np.array([[0,3,5],[2,8,7]])\n",
        "# ar2.shape\n",
        "ar2.ndim"
      ],
      "execution_count": 6,
      "outputs": [
        {
          "output_type": "execute_result",
          "data": {
            "text/plain": [
              "2"
            ]
          },
          "metadata": {
            "tags": []
          },
          "execution_count": 6
        }
      ]
    },
    {
      "cell_type": "code",
      "metadata": {
        "id": "gog6kIMV9CdY",
        "outputId": "54644fdf-80e5-4423-cd34-ac147186bb80",
        "colab": {
          "base_uri": "https://localhost:8080/"
        }
      },
      "source": [
        "ar=np.array([2,4,6,8]); \n",
        "ar.dtype"
      ],
      "execution_count": 7,
      "outputs": [
        {
          "output_type": "execute_result",
          "data": {
            "text/plain": [
              "dtype('int64')"
            ]
          },
          "metadata": {
            "tags": []
          },
          "execution_count": 7
        }
      ]
    },
    {
      "cell_type": "code",
      "metadata": {
        "id": "dvMuUet39Iww",
        "outputId": "cf820836-2458-4c6d-857f-d4dabeea3116",
        "colab": {
          "base_uri": "https://localhost:8080/"
        }
      },
      "source": [
        "f_ar = np.array([13,-3,8.88])\n",
        "f_ar\n",
        "\n",
        "intf_ar=f_ar.astype(int)\n",
        "intf_ar"
      ],
      "execution_count": 8,
      "outputs": [
        {
          "output_type": "execute_result",
          "data": {
            "text/plain": [
              "array([13, -3,  8])"
            ]
          },
          "metadata": {
            "tags": []
          },
          "execution_count": 8
        }
      ]
    },
    {
      "cell_type": "code",
      "metadata": {
        "id": "cgHg7iAN9Itx"
      },
      "source": [
        "import numpy as np\n",
        "x = np.array([[1,2.0],[0,0],(1+1j,3.)])"
      ],
      "execution_count": 9,
      "outputs": []
    },
    {
      "cell_type": "code",
      "metadata": {
        "id": "5OZWFPQS9IrQ",
        "outputId": "88e647d4-e505-41be-bee3-7a8f1d0171ab",
        "colab": {
          "base_uri": "https://localhost:8080/"
        }
      },
      "source": [
        "import csv\n",
        "import numpy as np\n",
        "\n",
        "x = '''1,3,2,3,1,2,3,4\n",
        "2,4,5,0.6,5,6,7,8\n",
        "3,7,8,9,9,10,11,12\n",
        "4,1,1.1,1.2,13,14,15,16\n",
        "'''\n",
        "with open(\"abc.txt\",mode=\"w\",encoding=\"utf-8\") as file:\n",
        "  file.write(x)\n",
        "file.close()\n",
        "\n",
        "np.genfromtxt('abc.txt', delimiter=',', invalid_raise = False)"
      ],
      "execution_count": 10,
      "outputs": [
        {
          "output_type": "execute_result",
          "data": {
            "text/plain": [
              "array([[ 1. ,  3. ,  2. ,  3. ,  1. ,  2. ,  3. ,  4. ],\n",
              "       [ 2. ,  4. ,  5. ,  0.6,  5. ,  6. ,  7. ,  8. ],\n",
              "       [ 3. ,  7. ,  8. ,  9. ,  9. , 10. , 11. , 12. ],\n",
              "       [ 4. ,  1. ,  1.1,  1.2, 13. , 14. , 15. , 16. ]])"
            ]
          },
          "metadata": {
            "tags": []
          },
          "execution_count": 10
        }
      ]
    },
    {
      "cell_type": "code",
      "metadata": {
        "id": "_By858j79IjJ",
        "outputId": "9cdb009d-90b3-4b28-dc26-4e313a8180f1",
        "colab": {
          "base_uri": "https://localhost:8080/"
        }
      },
      "source": [
        "import numpy as np\n",
        "np.tile(np.array([[1,2],[6,7]]),3)"
      ],
      "execution_count": 11,
      "outputs": [
        {
          "output_type": "execute_result",
          "data": {
            "text/plain": [
              "array([[1, 2, 1, 2, 1, 2],\n",
              "       [6, 7, 6, 7, 6, 7]])"
            ]
          },
          "metadata": {
            "tags": []
          },
          "execution_count": 11
        }
      ]
    },
    {
      "cell_type": "code",
      "metadata": {
        "id": "Iyu6N2hT9Igh",
        "outputId": "4a00e697-f3c5-464c-bdfb-a3a4d1bc7b36",
        "colab": {
          "base_uri": "https://localhost:8080/"
        }
      },
      "source": [
        "import numpy as np\n",
        "np.tile(np.array([[1,2],[6,7]]),(2,2))"
      ],
      "execution_count": 12,
      "outputs": [
        {
          "output_type": "execute_result",
          "data": {
            "text/plain": [
              "array([[1, 2, 1, 2],\n",
              "       [6, 7, 6, 7],\n",
              "       [1, 2, 1, 2],\n",
              "       [6, 7, 6, 7]])"
            ]
          },
          "metadata": {
            "tags": []
          },
          "execution_count": 12
        }
      ]
    },
    {
      "cell_type": "code",
      "metadata": {
        "id": "cYMBJBym9Idg",
        "outputId": "b4cafea9-f526-482e-cda4-2f706746c424",
        "colab": {
          "base_uri": "https://localhost:8080/"
        }
      },
      "source": [
        "import numpy as np\n",
        "np.array([range(i, i + 3) for i in [2, 4, 6]])"
      ],
      "execution_count": 13,
      "outputs": [
        {
          "output_type": "execute_result",
          "data": {
            "text/plain": [
              "array([[2, 3, 4],\n",
              "       [4, 5, 6],\n",
              "       [6, 7, 8]])"
            ]
          },
          "metadata": {
            "tags": []
          },
          "execution_count": 13
        }
      ]
    },
    {
      "cell_type": "code",
      "metadata": {
        "id": "ixw80ua69Ia4",
        "outputId": "9a8f5225-7861-463b-f638-98edd81cf343",
        "colab": {
          "base_uri": "https://localhost:8080/"
        }
      },
      "source": [
        "import numpy as np\n",
        "np.tile(np.array([[1,2],[6,7]]),3)"
      ],
      "execution_count": 14,
      "outputs": [
        {
          "output_type": "execute_result",
          "data": {
            "text/plain": [
              "array([[1, 2, 1, 2, 1, 2],\n",
              "       [6, 7, 6, 7, 6, 7]])"
            ]
          },
          "metadata": {
            "tags": []
          },
          "execution_count": 14
        }
      ]
    },
    {
      "cell_type": "code",
      "metadata": {
        "id": "vrb9ZtQn9IYR",
        "outputId": "6b228b97-b7a7-4218-ad3c-e5d150661c83",
        "colab": {
          "base_uri": "https://localhost:8080/"
        }
      },
      "source": [
        "import numpy as np\n",
        "np.tile(np.array([[1,2],[6,7]]),(2,2))"
      ],
      "execution_count": 15,
      "outputs": [
        {
          "output_type": "execute_result",
          "data": {
            "text/plain": [
              "array([[1, 2, 1, 2],\n",
              "       [6, 7, 6, 7],\n",
              "       [1, 2, 1, 2],\n",
              "       [6, 7, 6, 7]])"
            ]
          },
          "metadata": {
            "tags": []
          },
          "execution_count": 15
        }
      ]
    },
    {
      "cell_type": "code",
      "metadata": {
        "id": "RDSxWWp59IVo",
        "outputId": "a606d5bc-1dae-4127-992b-d530f68f2a53",
        "colab": {
          "base_uri": "https://localhost:8080/"
        }
      },
      "source": [
        "import numpy as np\n",
        "x = np.arange(2,10).reshape(2,4)\n",
        "x"
      ],
      "execution_count": 16,
      "outputs": [
        {
          "output_type": "execute_result",
          "data": {
            "text/plain": [
              "array([[2, 3, 4, 5],\n",
              "       [6, 7, 8, 9]])"
            ]
          },
          "metadata": {
            "tags": []
          },
          "execution_count": 16
        }
      ]
    },
    {
      "cell_type": "code",
      "metadata": {
        "id": "EIDcwrcm9IS4",
        "outputId": "96e87122-c5cd-4a92-e269-1884eb7a8597",
        "colab": {
          "base_uri": "https://localhost:8080/"
        }
      },
      "source": [
        "import numpy as np\n",
        "y = np.arange(2,10).reshape(4,2)\n",
        "y"
      ],
      "execution_count": 17,
      "outputs": [
        {
          "output_type": "execute_result",
          "data": {
            "text/plain": [
              "array([[2, 3],\n",
              "       [4, 5],\n",
              "       [6, 7],\n",
              "       [8, 9]])"
            ]
          },
          "metadata": {
            "tags": []
          },
          "execution_count": 17
        }
      ]
    },
    {
      "cell_type": "code",
      "metadata": {
        "id": "8Y3N_Pcs9IQI",
        "outputId": "eae1dbb1-1744-4bd6-e973-4f7d5b21b3a6",
        "colab": {
          "base_uri": "https://localhost:8080/"
        }
      },
      "source": [
        "import numpy as np\n",
        "ar=np.array([np.arange(1,6),np.arange(10,15)]); \n",
        "ar"
      ],
      "execution_count": 18,
      "outputs": [
        {
          "output_type": "execute_result",
          "data": {
            "text/plain": [
              "array([[ 1,  2,  3,  4,  5],\n",
              "       [10, 11, 12, 13, 14]])"
            ]
          },
          "metadata": {
            "tags": []
          },
          "execution_count": 18
        }
      ]
    },
    {
      "cell_type": "code",
      "metadata": {
        "id": "ITU_tFrq9INo",
        "outputId": "771bd1d4-1b4f-4e64-e942-bfb526d5c63c",
        "colab": {
          "base_uri": "https://localhost:8080/"
        }
      },
      "source": [
        "import numpy as np\n",
        "ar=np.array([np.arange(1,6),np.arange(10,15)])\n",
        "ar.ravel()"
      ],
      "execution_count": 19,
      "outputs": [
        {
          "output_type": "execute_result",
          "data": {
            "text/plain": [
              "array([ 1,  2,  3,  4,  5, 10, 11, 12, 13, 14])"
            ]
          },
          "metadata": {
            "tags": []
          },
          "execution_count": 19
        }
      ]
    },
    {
      "cell_type": "code",
      "metadata": {
        "id": "VPUq9qmI9ILB",
        "outputId": "9ba354e7-5556-4d7d-812e-0149f0a6c750",
        "colab": {
          "base_uri": "https://localhost:8080/"
        }
      },
      "source": [
        "import numpy as np\n",
        "ar=np.array([np.arange(1,6),np.arange(10,15)])\n",
        "ar.T"
      ],
      "execution_count": 20,
      "outputs": [
        {
          "output_type": "execute_result",
          "data": {
            "text/plain": [
              "array([[ 1, 10],\n",
              "       [ 2, 11],\n",
              "       [ 3, 12],\n",
              "       [ 4, 13],\n",
              "       [ 5, 14]])"
            ]
          },
          "metadata": {
            "tags": []
          },
          "execution_count": 20
        }
      ]
    },
    {
      "cell_type": "code",
      "metadata": {
        "id": "MWS8p9-N9IIY",
        "outputId": "666d65b3-77bc-4fbe-b373-00ef9f63c539",
        "colab": {
          "base_uri": "https://localhost:8080/"
        }
      },
      "source": [
        "import numpy as np\n",
        "ar=ar[:, np.newaxis]; ar.shape\n",
        "ar"
      ],
      "execution_count": 21,
      "outputs": [
        {
          "output_type": "execute_result",
          "data": {
            "text/plain": [
              "array([[[ 1,  2,  3,  4,  5]],\n",
              "\n",
              "       [[10, 11, 12, 13, 14]]])"
            ]
          },
          "metadata": {
            "tags": []
          },
          "execution_count": 21
        }
      ]
    },
    {
      "cell_type": "code",
      "metadata": {
        "id": "eCRvV4sx9IFw",
        "outputId": "bee8164a-f908-4e2f-ade0-07604e2be0c2",
        "colab": {
          "base_uri": "https://localhost:8080/"
        }
      },
      "source": [
        "import numpy as np\n",
        "ar=np.array([np.arange(1,6),np.arange(10,15)])\n",
        "ar.T.ravel()"
      ],
      "execution_count": 22,
      "outputs": [
        {
          "output_type": "execute_result",
          "data": {
            "text/plain": [
              "array([ 1, 10,  2, 11,  3, 12,  4, 13,  5, 14])"
            ]
          },
          "metadata": {
            "tags": []
          },
          "execution_count": 22
        }
      ]
    },
    {
      "cell_type": "code",
      "metadata": {
        "id": "NhmH2NDh9IDA",
        "outputId": "a90fecd6-d371-4cd0-fab7-0ec61e176455",
        "colab": {
          "base_uri": "https://localhost:8080/"
        }
      },
      "source": [
        "import numpy as np\n",
        "ar=np.array([14,15,16])\n",
        "ar=ar[:, np.newaxis]\n",
        "ar.shape"
      ],
      "execution_count": 23,
      "outputs": [
        {
          "output_type": "execute_result",
          "data": {
            "text/plain": [
              "(3, 1)"
            ]
          },
          "metadata": {
            "tags": []
          },
          "execution_count": 23
        }
      ]
    },
    {
      "cell_type": "code",
      "metadata": {
        "id": "LSHJ6ZzD9H6A",
        "outputId": "7b048e84-ce45-4783-fb0b-3a8d759a3fe8",
        "colab": {
          "base_uri": "https://localhost:8080/"
        }
      },
      "source": [
        "import numpy as np\n",
        "x = np.arange(2,10)\n",
        "# x\n",
        "print(x[0])\n",
        "print(x[-2])\n",
        "print(x[-1])"
      ],
      "execution_count": 24,
      "outputs": [
        {
          "output_type": "stream",
          "text": [
            "2\n",
            "8\n",
            "9\n"
          ],
          "name": "stdout"
        }
      ]
    },
    {
      "cell_type": "code",
      "metadata": {
        "id": "tgnQ3gyL9oZJ",
        "outputId": "0f9fb897-bdc8-4843-e4f9-636e98ea8ef4",
        "colab": {
          "base_uri": "https://localhost:8080/"
        }
      },
      "source": [
        "import numpy as np\n",
        "ar = np.array([[2,3,4],[9,8,7],[11,12,13]])\n",
        "ar[1,2]"
      ],
      "execution_count": 25,
      "outputs": [
        {
          "output_type": "execute_result",
          "data": {
            "text/plain": [
              "7"
            ]
          },
          "metadata": {
            "tags": []
          },
          "execution_count": 25
        }
      ]
    },
    {
      "cell_type": "code",
      "metadata": {
        "id": "HmTZiyz79pVH",
        "outputId": "cfd5c534-cce2-46e2-d465-4cd45277fe32",
        "colab": {
          "base_uri": "https://localhost:8080/"
        }
      },
      "source": [
        "import numpy as np\n",
        "ar=2*np.arange(6)\n",
        "# ar\n",
        "ar[1:5:2]"
      ],
      "execution_count": 26,
      "outputs": [
        {
          "output_type": "execute_result",
          "data": {
            "text/plain": [
              "array([2, 6])"
            ]
          },
          "metadata": {
            "tags": []
          },
          "execution_count": 26
        }
      ]
    },
    {
      "cell_type": "code",
      "metadata": {
        "id": "w9aPFjCm9phY",
        "outputId": "e071cdd2-6e1e-4cf5-e37e-9501d9b31682",
        "colab": {
          "base_uri": "https://localhost:8080/"
        }
      },
      "source": [
        "import numpy as np\n",
        "ar=2*np.arange(6)\n",
        "# ar\n",
        "ar[1:6:2]"
      ],
      "execution_count": 27,
      "outputs": [
        {
          "output_type": "execute_result",
          "data": {
            "text/plain": [
              "array([ 2,  6, 10])"
            ]
          },
          "metadata": {
            "tags": []
          },
          "execution_count": 27
        }
      ]
    },
    {
      "cell_type": "code",
      "metadata": {
        "id": "ApwQrCr89pml",
        "outputId": "c6cd67b8-284f-40c6-b499-a433f58eb044",
        "colab": {
          "base_uri": "https://localhost:8080/"
        }
      },
      "source": [
        "import numpy as np\n",
        "ar=2*np.arange(6)\n",
        "# ar\n",
        "ar[:4]"
      ],
      "execution_count": 28,
      "outputs": [
        {
          "output_type": "execute_result",
          "data": {
            "text/plain": [
              "array([0, 2, 4, 6])"
            ]
          },
          "metadata": {
            "tags": []
          },
          "execution_count": 28
        }
      ]
    },
    {
      "cell_type": "code",
      "metadata": {
        "id": "Hcj0SVE29psA",
        "outputId": "54767cba-35bf-4313-aaf4-550ac98b4a94",
        "colab": {
          "base_uri": "https://localhost:8080/"
        }
      },
      "source": [
        "import numpy as np\n",
        "ar = np.array([[2,3,4],[9,8,7],[11,12,13]])\n",
        "# ar\n",
        "ar[2,:] "
      ],
      "execution_count": 29,
      "outputs": [
        {
          "output_type": "execute_result",
          "data": {
            "text/plain": [
              "array([11, 12, 13])"
            ]
          },
          "metadata": {
            "tags": []
          },
          "execution_count": 29
        }
      ]
    },
    {
      "cell_type": "code",
      "metadata": {
        "id": "EAxx7cq19pkA",
        "outputId": "9625d964-8c01-4cc0-b1ef-c108805b5ba6",
        "colab": {
          "base_uri": "https://localhost:8080/"
        }
      },
      "source": [
        "import numpy as np\n",
        "ar = np.array([[2,3,4],[9,8,7],[11,12,13]])\n",
        "# ar\n",
        "ar[:,1]  "
      ],
      "execution_count": 30,
      "outputs": [
        {
          "output_type": "execute_result",
          "data": {
            "text/plain": [
              "array([ 3,  8, 12])"
            ]
          },
          "metadata": {
            "tags": []
          },
          "execution_count": 30
        }
      ]
    },
    {
      "cell_type": "code",
      "metadata": {
        "id": "gOSJIkcC9pZy",
        "outputId": "11729d84-3aeb-4712-a685-e9279ba00dc6",
        "colab": {
          "base_uri": "https://localhost:8080/"
        }
      },
      "source": [
        "import numpy as np\n",
        "ar = np.array([[2,3,4],[9,8,7],[11,12,13]])\n",
        "# ar\n",
        "ar[2,-1]"
      ],
      "execution_count": 31,
      "outputs": [
        {
          "output_type": "execute_result",
          "data": {
            "text/plain": [
              "13"
            ]
          },
          "metadata": {
            "tags": []
          },
          "execution_count": 31
        }
      ]
    },
    {
      "cell_type": "code",
      "metadata": {
        "id": "taLyH0py9ooR",
        "outputId": "57ad366c-214d-41f8-b580-18cb1c4918e5",
        "colab": {
          "base_uri": "https://localhost:8080/"
        }
      },
      "source": [
        "import numpy as np\n",
        "ar=2*np.arange(6)\n",
        "# ar\n",
        "ar[::3]"
      ],
      "execution_count": 32,
      "outputs": [
        {
          "output_type": "execute_result",
          "data": {
            "text/plain": [
              "array([0, 6])"
            ]
          },
          "metadata": {
            "tags": []
          },
          "execution_count": 32
        }
      ]
    },
    {
      "cell_type": "code",
      "metadata": {
        "id": "HHwVYOkZ97dV",
        "outputId": "25902a6b-aed2-4fa3-e1dd-68d0cf265770",
        "colab": {
          "base_uri": "https://localhost:8080/"
        }
      },
      "source": [
        "import numpy as np\n",
        "ar=2*np.arange(6)\n",
        "# ar\n",
        "ar[:3]=1\n",
        "ar"
      ],
      "execution_count": 33,
      "outputs": [
        {
          "output_type": "execute_result",
          "data": {
            "text/plain": [
              "array([ 1,  1,  1,  6,  8, 10])"
            ]
          },
          "metadata": {
            "tags": []
          },
          "execution_count": 33
        }
      ]
    },
    {
      "cell_type": "code",
      "metadata": {
        "id": "mAWtwLJJ97oI",
        "outputId": "4be907c8-ca13-472a-beda-893a106397be",
        "colab": {
          "base_uri": "https://localhost:8080/"
        }
      },
      "source": [
        "import numpy as np\n",
        "ar=2*np.arange(6)\n",
        "# ar\n",
        "ar[2:]=np.ones(4)\n",
        "ar"
      ],
      "execution_count": 34,
      "outputs": [
        {
          "output_type": "execute_result",
          "data": {
            "text/plain": [
              "array([0, 2, 1, 1, 1, 1])"
            ]
          },
          "metadata": {
            "tags": []
          },
          "execution_count": 34
        }
      ]
    },
    {
      "cell_type": "code",
      "metadata": {
        "id": "Q-O7sc-P975_",
        "outputId": "ab1c3c5c-0b80-4a93-aa28-c8bed72c28c8",
        "colab": {
          "base_uri": "https://localhost:8080/"
        }
      },
      "source": [
        "ar=np.array([np.arange(1,6),np.arange(1,6)])\n",
        "# ar\n",
        "np.prod(ar,axis=0)"
      ],
      "execution_count": 35,
      "outputs": [
        {
          "output_type": "execute_result",
          "data": {
            "text/plain": [
              "array([ 1,  4,  9, 16, 25])"
            ]
          },
          "metadata": {
            "tags": []
          },
          "execution_count": 35
        }
      ]
    },
    {
      "cell_type": "code",
      "metadata": {
        "id": "k18qV5A_98LP",
        "outputId": "8c7d3d2e-67ce-40e4-ae6c-06a978a32cee",
        "colab": {
          "base_uri": "https://localhost:8080/"
        }
      },
      "source": [
        "ar=np.array([np.arange(1,6),np.arange(1,6)])\n",
        "# ar\n",
        "np.prod(ar,axis=1)"
      ],
      "execution_count": 36,
      "outputs": [
        {
          "output_type": "execute_result",
          "data": {
            "text/plain": [
              "array([120, 120])"
            ]
          },
          "metadata": {
            "tags": []
          },
          "execution_count": 36
        }
      ]
    },
    {
      "cell_type": "code",
      "metadata": {
        "id": "jrqbC2kf98dR",
        "outputId": "535cffa7-ac68-4674-ef92-1fd1248f96dd",
        "colab": {
          "base_uri": "https://localhost:8080/"
        }
      },
      "source": [
        "import numpy as np\n",
        "arr = np.arange(10)\n",
        "np.sqrt(arr)"
      ],
      "execution_count": 37,
      "outputs": [
        {
          "output_type": "execute_result",
          "data": {
            "text/plain": [
              "array([0.        , 1.        , 1.41421356, 1.73205081, 2.        ,\n",
              "       2.23606798, 2.44948974, 2.64575131, 2.82842712, 3.        ])"
            ]
          },
          "metadata": {
            "tags": []
          },
          "execution_count": 37
        }
      ]
    },
    {
      "cell_type": "code",
      "metadata": {
        "id": "l6szNEug98UA",
        "outputId": "13fdd976-b925-46e5-a77f-77fc1c93bd91",
        "colab": {
          "base_uri": "https://localhost:8080/"
        }
      },
      "source": [
        "import numpy as np\n",
        "arr = np.arange(10)\n",
        "np.exp(arr)"
      ],
      "execution_count": 38,
      "outputs": [
        {
          "output_type": "execute_result",
          "data": {
            "text/plain": [
              "array([1.00000000e+00, 2.71828183e+00, 7.38905610e+00, 2.00855369e+01,\n",
              "       5.45981500e+01, 1.48413159e+02, 4.03428793e+02, 1.09663316e+03,\n",
              "       2.98095799e+03, 8.10308393e+03])"
            ]
          },
          "metadata": {
            "tags": []
          },
          "execution_count": 38
        }
      ]
    },
    {
      "cell_type": "code",
      "metadata": {
        "id": "sctSsAe398DQ",
        "outputId": "0320c1c9-4472-4df3-810f-de3c02d034b0",
        "colab": {
          "base_uri": "https://localhost:8080/"
        }
      },
      "source": [
        "import numpy as np\n",
        "arr = np.array([[1., 2., 3.], [4., 5., 6.]])\n",
        "# arr\n",
        "arr+arr"
      ],
      "execution_count": 39,
      "outputs": [
        {
          "output_type": "execute_result",
          "data": {
            "text/plain": [
              "array([[ 2.,  4.,  6.],\n",
              "       [ 8., 10., 12.]])"
            ]
          },
          "metadata": {
            "tags": []
          },
          "execution_count": 39
        }
      ]
    },
    {
      "cell_type": "code",
      "metadata": {
        "id": "rIp_ygym97xQ",
        "outputId": "00991e97-6504-45a5-faf7-d9f3fef16cdc",
        "colab": {
          "base_uri": "https://localhost:8080/"
        }
      },
      "source": [
        "import numpy as np\n",
        "arr = np.array([[1., 2., 3.], [4., 5., 6.]])\n",
        "# arr\n",
        "arr*arr"
      ],
      "execution_count": 40,
      "outputs": [
        {
          "output_type": "execute_result",
          "data": {
            "text/plain": [
              "array([[ 1.,  4.,  9.],\n",
              "       [16., 25., 36.]])"
            ]
          },
          "metadata": {
            "tags": []
          },
          "execution_count": 40
        }
      ]
    },
    {
      "cell_type": "code",
      "metadata": {
        "id": "xi9fCIUy97gQ",
        "outputId": "f1cc8f84-8612-4042-9f3c-42bbd8cec926",
        "colab": {
          "base_uri": "https://localhost:8080/"
        }
      },
      "source": [
        "import numpy as np\n",
        "ar=np.array([[1,1],[1,1]])\n",
        "ar2=np.array([[2,2],[2,2]])\n",
        "ar*ar2"
      ],
      "execution_count": 41,
      "outputs": [
        {
          "output_type": "execute_result",
          "data": {
            "text/plain": [
              "array([[2, 2],\n",
              "       [2, 2]])"
            ]
          },
          "metadata": {
            "tags": []
          },
          "execution_count": 41
        }
      ]
    },
    {
      "cell_type": "code",
      "metadata": {
        "id": "ZaXP3N8Y-Mho",
        "outputId": "35e79f51-5eb1-4a3d-c1be-70d88668bef7",
        "colab": {
          "base_uri": "https://localhost:8080/"
        }
      },
      "source": [
        "import numpy as np\n",
        "ar=np.array([[1,1],[1,1]])\n",
        "ar2=np.array([[2,2],[2,2]])\n",
        "ar.dot(ar2)"
      ],
      "execution_count": 42,
      "outputs": [
        {
          "output_type": "execute_result",
          "data": {
            "text/plain": [
              "array([[4, 4],\n",
              "       [4, 4]])"
            ]
          },
          "metadata": {
            "tags": []
          },
          "execution_count": 42
        }
      ]
    },
    {
      "cell_type": "code",
      "metadata": {
        "id": "XyWNbUu1-MuY",
        "outputId": "7198b28a-eafc-4cf8-bec1-3633cd5889a2",
        "colab": {
          "base_uri": "https://localhost:8080/"
        }
      },
      "source": [
        "import numpy as np\n",
        "arr = np.array([[1., 2., 3.], [4., 5., 6.]])\n",
        "# arr\n",
        "arr-arr"
      ],
      "execution_count": 43,
      "outputs": [
        {
          "output_type": "execute_result",
          "data": {
            "text/plain": [
              "array([[0., 0., 0.],\n",
              "       [0., 0., 0.]])"
            ]
          },
          "metadata": {
            "tags": []
          },
          "execution_count": 43
        }
      ]
    },
    {
      "cell_type": "code",
      "metadata": {
        "id": "LN9KI4UO-NCw",
        "outputId": "b2b2f868-f624-482f-b261-d796b936e6d7",
        "colab": {
          "base_uri": "https://localhost:8080/"
        }
      },
      "source": [
        "import numpy as np\n",
        "arr = np.array([[1., 2., 3.], [4., 5., 6.]])\n",
        "# arr\n",
        "1/arr"
      ],
      "execution_count": 44,
      "outputs": [
        {
          "output_type": "execute_result",
          "data": {
            "text/plain": [
              "array([[1.        , 0.5       , 0.33333333],\n",
              "       [0.25      , 0.2       , 0.16666667]])"
            ]
          },
          "metadata": {
            "tags": []
          },
          "execution_count": 44
        }
      ]
    },
    {
      "cell_type": "code",
      "metadata": {
        "id": "JTsO_VFN-NTQ",
        "outputId": "3fdc5125-b28a-4898-cfcc-7efbcb2841d1",
        "colab": {
          "base_uri": "https://localhost:8080/"
        }
      },
      "source": [
        "import numpy as np\n",
        "arr = np.array([[1., 2., 3.], [4., 5., 6.]])\n",
        "# arr\n",
        "arr ** 0.5"
      ],
      "execution_count": 45,
      "outputs": [
        {
          "output_type": "execute_result",
          "data": {
            "text/plain": [
              "array([[1.        , 1.41421356, 1.73205081],\n",
              "       [2.        , 2.23606798, 2.44948974]])"
            ]
          },
          "metadata": {
            "tags": []
          },
          "execution_count": 45
        }
      ]
    },
    {
      "cell_type": "code",
      "metadata": {
        "id": "iAv3GJxs-NiX",
        "outputId": "910afa51-edc8-405e-fb3e-684ebf97b162",
        "colab": {
          "base_uri": "https://localhost:8080/"
        }
      },
      "source": [
        "import numpy as np\n",
        "xarr = np.array([1.1, 1.2, 1.3, 1.4, 1.5])\n",
        "yarr = np.array([2.1, 2.2, 2.3, 2.4, 2.5])\n",
        "cond = np.array([True, False, True, True, False])\n",
        "result = [(x if c else y)\n",
        "          for x, y, c in zip(xarr, yarr, cond)]\n",
        "result"
      ],
      "execution_count": 46,
      "outputs": [
        {
          "output_type": "execute_result",
          "data": {
            "text/plain": [
              "[1.1, 2.2, 1.3, 1.4, 2.5]"
            ]
          },
          "metadata": {
            "tags": []
          },
          "execution_count": 46
        }
      ]
    },
    {
      "cell_type": "code",
      "metadata": {
        "id": "evNLHeic-N1o",
        "outputId": "d017fa60-ef10-4f51-be53-97aedf0ac6f9",
        "colab": {
          "base_uri": "https://localhost:8080/"
        }
      },
      "source": [
        "import numpy as np\n",
        "xarr = np.array([1.1, 1.2, 1.3, 1.4, 1.5])\n",
        "yarr = np.array([2.1, 2.2, 2.3, 2.4, 2.5])\n",
        "cond = np.array([True, False, True, True, False])\n",
        "result = np.where(cond, xarr, yarr)\n",
        "result"
      ],
      "execution_count": 47,
      "outputs": [
        {
          "output_type": "execute_result",
          "data": {
            "text/plain": [
              "array([1.1, 2.2, 1.3, 1.4, 2.5])"
            ]
          },
          "metadata": {
            "tags": []
          },
          "execution_count": 47
        }
      ]
    },
    {
      "cell_type": "code",
      "metadata": {
        "id": "0V3IL82--OEY",
        "outputId": "3a3ca688-168e-4cc4-a188-e211d455d0ef",
        "colab": {
          "base_uri": "https://localhost:8080/"
        }
      },
      "source": [
        "import numpy as np\n",
        "x1 = np.arange(9.0).reshape((3, 3))\n",
        "x2 = np.arange(3.0)\n",
        "np.multiply(x1, x2)"
      ],
      "execution_count": 48,
      "outputs": [
        {
          "output_type": "execute_result",
          "data": {
            "text/plain": [
              "array([[ 0.,  1.,  4.],\n",
              "       [ 0.,  4., 10.],\n",
              "       [ 0.,  7., 16.]])"
            ]
          },
          "metadata": {
            "tags": []
          },
          "execution_count": 48
        }
      ]
    },
    {
      "cell_type": "code",
      "metadata": {
        "id": "9d9uWlnJ-OTG",
        "outputId": "e34ea396-4871-4f90-dcbe-efa5a521074c",
        "colab": {
          "base_uri": "https://localhost:8080/"
        }
      },
      "source": [
        "import numpy as np\n",
        "np.arange(3) + 5"
      ],
      "execution_count": 49,
      "outputs": [
        {
          "output_type": "execute_result",
          "data": {
            "text/plain": [
              "array([5, 6, 7])"
            ]
          },
          "metadata": {
            "tags": []
          },
          "execution_count": 49
        }
      ]
    },
    {
      "cell_type": "code",
      "metadata": {
        "id": "5kZ7zDPx-OMg",
        "outputId": "d1f01d79-1f00-4fd0-bba5-52af08a0bb4d",
        "colab": {
          "base_uri": "https://localhost:8080/"
        }
      },
      "source": [
        "import numpy as np\n",
        "np.ones((3, 3)) + np.arange(3)"
      ],
      "execution_count": 50,
      "outputs": [
        {
          "output_type": "execute_result",
          "data": {
            "text/plain": [
              "array([[1., 2., 3.],\n",
              "       [1., 2., 3.],\n",
              "       [1., 2., 3.]])"
            ]
          },
          "metadata": {
            "tags": []
          },
          "execution_count": 50
        }
      ]
    },
    {
      "cell_type": "code",
      "metadata": {
        "id": "t7DeTh5J-N84",
        "outputId": "6b77cbd5-251e-4741-8c8c-e85fd9040de3",
        "colab": {
          "base_uri": "https://localhost:8080/"
        }
      },
      "source": [
        "import numpy as np\n",
        "np.arange(3).reshape((3, 1)) + np.arange(3)"
      ],
      "execution_count": 51,
      "outputs": [
        {
          "output_type": "execute_result",
          "data": {
            "text/plain": [
              "array([[0, 1, 2],\n",
              "       [1, 2, 3],\n",
              "       [2, 3, 4]])"
            ]
          },
          "metadata": {
            "tags": []
          },
          "execution_count": 51
        }
      ]
    },
    {
      "cell_type": "code",
      "metadata": {
        "id": "MZVWW6av-Nsg",
        "outputId": "2de1e599-8a14-41ca-b1f2-1aa837a9e611",
        "colab": {
          "base_uri": "https://localhost:8080/"
        }
      },
      "source": [
        "import numpy as np\n",
        "np.random.randint(1,5)"
      ],
      "execution_count": 52,
      "outputs": [
        {
          "output_type": "execute_result",
          "data": {
            "text/plain": [
              "2"
            ]
          },
          "metadata": {
            "tags": []
          },
          "execution_count": 52
        }
      ]
    },
    {
      "cell_type": "code",
      "metadata": {
        "id": "wYArrUX1-NaS",
        "outputId": "66f8af6c-9957-4f5c-8856-a76ebaa1c0c4",
        "colab": {
          "base_uri": "https://localhost:8080/"
        }
      },
      "source": [
        "import numpy as np\n",
        "np.random.randint(-5,5,size=(2,2))"
      ],
      "execution_count": 53,
      "outputs": [
        {
          "output_type": "execute_result",
          "data": {
            "text/plain": [
              "array([[ 0,  4],\n",
              "       [-2, -4]])"
            ]
          },
          "metadata": {
            "tags": []
          },
          "execution_count": 53
        }
      ]
    },
    {
      "cell_type": "code",
      "metadata": {
        "id": "Uzm1fL6F-NLX",
        "outputId": "6f7fb876-5700-41d3-eddb-e461717aced2",
        "colab": {
          "base_uri": "https://localhost:8080/"
        }
      },
      "source": [
        "import numpy as np\n",
        "np.random.seed(0)\n",
        "x1 = np.random.randint(10, size=6) \n",
        "x1"
      ],
      "execution_count": 54,
      "outputs": [
        {
          "output_type": "execute_result",
          "data": {
            "text/plain": [
              "array([5, 0, 3, 3, 7, 9])"
            ]
          },
          "metadata": {
            "tags": []
          },
          "execution_count": 54
        }
      ]
    },
    {
      "cell_type": "code",
      "metadata": {
        "id": "W_wT-NMF-M2o",
        "outputId": "0e6b5a0e-05e5-4740-b602-4431eb02c324",
        "colab": {
          "base_uri": "https://localhost:8080/"
        }
      },
      "source": [
        "import numpy as np\n",
        "np.random.seed(0)\n",
        "x2 = np.random.randint(10, size=(3, 4))\n",
        "x2"
      ],
      "execution_count": 55,
      "outputs": [
        {
          "output_type": "execute_result",
          "data": {
            "text/plain": [
              "array([[5, 0, 3, 3],\n",
              "       [7, 9, 3, 5],\n",
              "       [2, 4, 7, 6]])"
            ]
          },
          "metadata": {
            "tags": []
          },
          "execution_count": 55
        }
      ]
    },
    {
      "cell_type": "code",
      "metadata": {
        "id": "qz8Imx3G-MnA",
        "outputId": "86e31a5d-0b43-412e-84a8-d410f7cca87b",
        "colab": {
          "base_uri": "https://localhost:8080/"
        }
      },
      "source": [
        "import numpy as np\n",
        "np.random.seed(0)\n",
        "x3 = np.random.randint(10, size=(3, 4, 5))\n",
        "x3"
      ],
      "execution_count": 56,
      "outputs": [
        {
          "output_type": "execute_result",
          "data": {
            "text/plain": [
              "array([[[5, 0, 3, 3, 7],\n",
              "        [9, 3, 5, 2, 4],\n",
              "        [7, 6, 8, 8, 1],\n",
              "        [6, 7, 7, 8, 1]],\n",
              "\n",
              "       [[5, 9, 8, 9, 4],\n",
              "        [3, 0, 3, 5, 0],\n",
              "        [2, 3, 8, 1, 3],\n",
              "        [3, 3, 7, 0, 1]],\n",
              "\n",
              "       [[9, 9, 0, 4, 7],\n",
              "        [3, 2, 7, 2, 0],\n",
              "        [0, 4, 5, 5, 6],\n",
              "        [8, 4, 1, 4, 9]]])"
            ]
          },
          "metadata": {
            "tags": []
          },
          "execution_count": 56
        }
      ]
    },
    {
      "cell_type": "code",
      "metadata": {
        "id": "mBmcRH6K-MZQ",
        "outputId": "7455346b-38b3-4585-8c1c-2ee1007dcf94",
        "colab": {
          "base_uri": "https://localhost:8080/"
        }
      },
      "source": [
        "import numpy as np\n",
        "np.random.randint(1,size=5)"
      ],
      "execution_count": 57,
      "outputs": [
        {
          "output_type": "execute_result",
          "data": {
            "text/plain": [
              "array([0, 0, 0, 0, 0])"
            ]
          },
          "metadata": {
            "tags": []
          },
          "execution_count": 57
        }
      ]
    },
    {
      "cell_type": "code",
      "metadata": {
        "id": "mT4iAMyn97WI",
        "outputId": "eeaf3ffd-c0c7-4b00-db3f-f79a8dff9f06",
        "colab": {
          "base_uri": "https://localhost:8080/"
        }
      },
      "source": [
        "import numpy as np\n",
        "np.convolve([1, 2, 3], [0, 1, 0.5])"
      ],
      "execution_count": 58,
      "outputs": [
        {
          "output_type": "execute_result",
          "data": {
            "text/plain": [
              "array([0. , 1. , 2.5, 4. , 1.5])"
            ]
          },
          "metadata": {
            "tags": []
          },
          "execution_count": 58
        }
      ]
    },
    {
      "cell_type": "code",
      "metadata": {
        "id": "YhZzca1T9odx",
        "outputId": "827de1bf-288a-4795-b425-a228e10ccc7e",
        "colab": {
          "base_uri": "https://localhost:8080/"
        }
      },
      "source": [
        "import numpy as np\n",
        "np.convolve([1,2,3],[0,1,0.5], 'same')"
      ],
      "execution_count": 59,
      "outputs": [
        {
          "output_type": "execute_result",
          "data": {
            "text/plain": [
              "array([1. , 2.5, 4. ])"
            ]
          },
          "metadata": {
            "tags": []
          },
          "execution_count": 59
        }
      ]
    },
    {
      "cell_type": "code",
      "metadata": {
        "id": "D7a77rci-mjH",
        "outputId": "c588d3af-300e-4d00-ebfa-bbcdda280a1f",
        "colab": {
          "base_uri": "https://localhost:8080/"
        }
      },
      "source": [
        "import numpy as np\n",
        "np.convolve([1,2,3],[0,1,0.5], 'valid')"
      ],
      "execution_count": 60,
      "outputs": [
        {
          "output_type": "execute_result",
          "data": {
            "text/plain": [
              "array([2.5])"
            ]
          },
          "metadata": {
            "tags": []
          },
          "execution_count": 60
        }
      ]
    },
    {
      "cell_type": "code",
      "metadata": {
        "id": "n75gTmMs-m5I",
        "outputId": "e8734fb8-7729-44c9-e0ba-847ffdcb6de1",
        "colab": {
          "base_uri": "https://localhost:8080/"
        }
      },
      "source": [
        "import numpy as np\n",
        "np.convolve([1, 2, 3], [0, 1, 0.5])"
      ],
      "execution_count": 61,
      "outputs": [
        {
          "output_type": "execute_result",
          "data": {
            "text/plain": [
              "array([0. , 1. , 2.5, 4. , 1.5])"
            ]
          },
          "metadata": {
            "tags": []
          },
          "execution_count": 61
        }
      ]
    },
    {
      "cell_type": "code",
      "metadata": {
        "id": "wIzELbam-nG4",
        "outputId": "4ccdd021-5760-425c-9181-efbf63f26f5b",
        "colab": {
          "base_uri": "https://localhost:8080/"
        }
      },
      "source": [
        "import numpy as np\n",
        "ar=np.array([[3,2],[10,-1]])\n",
        "# ar\n",
        "ar.sort(axis=1)\n",
        "ar"
      ],
      "execution_count": 63,
      "outputs": [
        {
          "output_type": "execute_result",
          "data": {
            "text/plain": [
              "array([[ 2,  3],\n",
              "       [-1, 10]])"
            ]
          },
          "metadata": {
            "tags": []
          },
          "execution_count": 63
        }
      ]
    },
    {
      "cell_type": "code",
      "metadata": {
        "id": "RkFmuoLm-nUI",
        "outputId": "11ddf6ec-e270-4739-df43-087f5ea6d980",
        "colab": {
          "base_uri": "https://localhost:8080/"
        }
      },
      "source": [
        "import numpy as np\n",
        "ar=np.array([[3,2],[10,-1]])\n",
        "# ar\n",
        "ar.sort(axis=0)\n",
        "ar"
      ],
      "execution_count": 64,
      "outputs": [
        {
          "output_type": "execute_result",
          "data": {
            "text/plain": [
              "array([[ 3, -1],\n",
              "       [10,  2]])"
            ]
          },
          "metadata": {
            "tags": []
          },
          "execution_count": 64
        }
      ]
    },
    {
      "cell_type": "code",
      "metadata": {
        "id": "PGP-xBwB-ngR",
        "outputId": "937b4a3e-92db-440b-a926-e8bcd4b23fcf",
        "colab": {
          "base_uri": "https://localhost:8080/"
        }
      },
      "source": [
        "import numpy as np\n",
        "ar=np.random.randint(10,size=5)\n",
        "ar.sort()\n",
        "ar[::-1]"
      ],
      "execution_count": 65,
      "outputs": [
        {
          "output_type": "execute_result",
          "data": {
            "text/plain": [
              "array([9, 8, 7, 1, 1])"
            ]
          },
          "metadata": {
            "tags": []
          },
          "execution_count": 65
        }
      ]
    },
    {
      "cell_type": "code",
      "metadata": {
        "id": "L0e6J8mg-mwI"
      },
      "source": [
        ""
      ],
      "execution_count": null,
      "outputs": []
    }
  ]
}